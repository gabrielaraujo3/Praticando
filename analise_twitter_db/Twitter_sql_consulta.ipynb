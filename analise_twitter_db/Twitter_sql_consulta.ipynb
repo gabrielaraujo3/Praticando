{
 "cells": [
  {
   "cell_type": "code",
   "execution_count": null,
   "id": "0ae2228d",
   "metadata": {},
   "outputs": [],
   "source": [
    "import sqlite3\n",
    "import pandas as pd"
   ]
  },
  {
   "cell_type": "code",
   "execution_count": null,
   "id": "c4e8f96a",
   "metadata": {},
   "outputs": [],
   "source": [
    "con = sqlite3.connect('BD_Itaipava.db')\n",
    "\n",
    "cur = con.cursor()"
   ]
  },
  {
   "cell_type": "code",
   "execution_count": null,
   "id": "adcf895d",
   "metadata": {},
   "outputs": [],
   "source": [
    "cur.execute('SELECT * FROM registros')"
   ]
  },
  {
   "cell_type": "code",
   "execution_count": null,
   "id": "48d8af45",
   "metadata": {},
   "outputs": [],
   "source": [
    "resultados = cur.fetchall()\n",
    "resultados = pd.DataFrame(resultados)"
   ]
  },
  {
   "cell_type": "code",
   "execution_count": null,
   "id": "1387bcad",
   "metadata": {},
   "outputs": [],
   "source": [
    "resultados.columns = ['texto', 'RT']"
   ]
  },
  {
   "cell_type": "code",
   "execution_count": null,
   "id": "d3e5c838",
   "metadata": {},
   "outputs": [],
   "source": [
    "display(resultados)"
   ]
  },
  {
   "cell_type": "code",
   "execution_count": null,
   "id": "47f4e0e9",
   "metadata": {},
   "outputs": [],
   "source": [
    "resultados.to_excel('resultados.xlsx')"
   ]
  }
 ],
 "metadata": {
  "kernelspec": {
   "display_name": "Python 3 (ipykernel)",
   "language": "python",
   "name": "python3"
  },
  "language_info": {
   "codemirror_mode": {
    "name": "ipython",
    "version": 3
   },
   "file_extension": ".py",
   "mimetype": "text/x-python",
   "name": "python",
   "nbconvert_exporter": "python",
   "pygments_lexer": "ipython3",
   "version": "3.9.7"
  }
 },
 "nbformat": 4,
 "nbformat_minor": 5
}
