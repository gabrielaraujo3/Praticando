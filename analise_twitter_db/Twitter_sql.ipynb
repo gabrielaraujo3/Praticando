{
 "cells": [
  {
   "cell_type": "code",
   "execution_count": null,
   "id": "b11b6026",
   "metadata": {},
   "outputs": [],
   "source": [
    "import tweepy as tw\n",
    "import pandas as pd\n",
    "import time\n",
    "import sqlite3"
   ]
  },
  {
   "cell_type": "code",
   "execution_count": null,
   "id": "5d57b4f5",
   "metadata": {},
   "outputs": [],
   "source": [
    "consumer_key = 'dev_twitter'\n",
    "consumer_secret = 'dev_twitter'\n",
    "bearer_token = 'dev_twitter'\n",
    "access_token = 'dev_twitter'\n",
    "access_token_secret = 'dev_twitter'\n",
    "\n",
    "cliente = tw.Client(bearer_token,consumer_key, consumer_secret, access_token, access_token_secret)\n",
    "\n",
    "con = sqlite3.connect('BD_Itaipava.db')\n",
    "\n",
    "cur = con.cursor()\n",
    "\n",
    "# intervalo a capturar\n",
    "start = '2022-02-21T00:32:01Z'\n",
    "end = '2022-02-22T00:35:01Z'\n",
    "\n",
    "resposta = cliente.search_recent_tweets(query='itaipava', max_results=100, start_time=start, end_time=end)\n",
    "\n",
    "dados = resposta.data"
   ]
  },
  {
   "cell_type": "code",
   "execution_count": null,
   "id": "6b6939b6",
   "metadata": {},
   "outputs": [],
   "source": [
    "cur.execute('CREATE TABLE registros (texto, RT TEXT)')"
   ]
  },
  {
   "cell_type": "code",
   "execution_count": null,
   "id": "7d260d13",
   "metadata": {},
   "outputs": [],
   "source": [
    "for i in dados:\n",
    "    texto = i.text\n",
    "    if (texto[:2] == 'RT'):\n",
    "        RT = 'S'\n",
    "    else:\n",
    "        RT = 'N'\n",
    "        \n",
    "    cur.execute(\"INSERT INTO registros (texto, RT) VALUES (?, ?)\", (texto,RT))\n",
    "    \n",
    "con.commit()"
   ]
  },
  {
   "cell_type": "code",
   "execution_count": null,
   "id": "3df5929b",
   "metadata": {},
   "outputs": [],
   "source": [
    "con.close()"
   ]
  }
 ],
 "metadata": {
  "kernelspec": {
   "display_name": "Python 3 (ipykernel)",
   "language": "python",
   "name": "python3"
  },
  "language_info": {
   "codemirror_mode": {
    "name": "ipython",
    "version": 3
   },
   "file_extension": ".py",
   "mimetype": "text/x-python",
   "name": "python",
   "nbconvert_exporter": "python",
   "pygments_lexer": "ipython3",
   "version": "3.9.7"
  }
 },
 "nbformat": 4,
 "nbformat_minor": 5
}
