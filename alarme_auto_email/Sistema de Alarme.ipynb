{
 "cells": [
  {
   "cell_type": "code",
   "execution_count": null,
   "id": "b7a03ba2",
   "metadata": {},
   "outputs": [],
   "source": [
    "# importando bibliotecas\n",
    "import pandas as pd\n",
    "import datetime as dt\n",
    "import win32com.client as client\n"
   ]
  },
  {
   "cell_type": "code",
   "execution_count": null,
   "id": "02c6315d",
   "metadata": {},
   "outputs": [],
   "source": [
    "while True:\n",
    "    # Lendo dados do banco de dados (JSON)\n",
    "    df_dados = pd.read_json(\"link banco de dados.json\", orient ='index')\n",
    "    df_dados['Data']=pd.to_datetime(df_dados['Data'])\n",
    "    display(df_dados)\n",
    "\n",
    "    # estipulando período de análise\n",
    "    agora = dt.datetime.now()\n",
    "    delta = dt.timedelta(minutes=2)\n",
    "    tempolimite = agora-delta\n",
    "    dados_analise = df_dados.loc[df_dados['Data']>tempolimite]\n",
    "    display(dados_analise)\n",
    "\n",
    "    # filtrando dados na base\n",
    "    alertas = dados_analise.loc[dados_analise['Vazao']>150]\n",
    "    display(alertas)\n",
    "    lista_alertas = alertas[['Data', 'Vazao']].values.tolist()\n",
    "    print(lista_alertas)\n",
    "\n",
    "    # criando e-mail\n",
    "    outlook = client.Dispatch('Outlook.Application')\n",
    "    # selecionando a conta de envio\n",
    "    emissor = outlook.session.Account['EMAIL LOGADO - REMETENTE A ESCOLHA']\n",
    "    for alerta in lista_alertas:\n",
    "        data_alerta = alerta[0]\n",
    "        vazao_alerta = alerta[1]\n",
    "        data_alerta = data_alerta.strftime(\"%d/%m/%Y %H:%M:%S\")\n",
    "        mensagem = outlook.CreateItem(0)\n",
    "        menssagem.Display()\n",
    "        menssagem.To = 'EMAIL QUE RECEBERA'\n",
    "        menssagem.Subject = ' ALERTA! Valores abaixo de 150'\n",
    "        menssagem.Body = f'''\n",
    "\n",
    "        Prezado,\n",
    "\n",
    "        No dia /hora {data_alerta} o valor da vazão foi de {vazao_alerta}, superando o valor aceitável.\n",
    "\n",
    "        Att,\n",
    "\n",
    "        Seu robô.\n",
    "        '''\n",
    "\n",
    "        menssagem._oleobj_.Invoke(*(64209,0,8,0,emissor))\n",
    "        menssagem.Save()\n",
    "        menssagem.Send()\n",
    "    time.sleep(120)"
   ]
  }
 ],
 "metadata": {
  "kernelspec": {
   "display_name": "Python 3 (ipykernel)",
   "language": "python",
   "name": "python3"
  },
  "language_info": {
   "codemirror_mode": {
    "name": "ipython",
    "version": 3
   },
   "file_extension": ".py",
   "mimetype": "text/x-python",
   "name": "python",
   "nbconvert_exporter": "python",
   "pygments_lexer": "ipython3",
   "version": "3.9.7"
  }
 },
 "nbformat": 4,
 "nbformat_minor": 5
}
